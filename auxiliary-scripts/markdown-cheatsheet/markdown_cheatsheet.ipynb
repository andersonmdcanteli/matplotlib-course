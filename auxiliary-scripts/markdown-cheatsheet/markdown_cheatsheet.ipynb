{
  "nbformat": 4,
  "nbformat_minor": 0,
  "metadata": {
    "colab": {
      "name": "markdown-cheatsheet.ipynb",
      "provenance": [],
      "collapsed_sections": []
    },
    "kernelspec": {
      "name": "python3",
      "display_name": "Python 3"
    },
    "language_info": {
      "name": "python"
    }
  },
  "cells": [
    {
      "cell_type": "markdown",
      "metadata": {
        "id": "lOdjQ2J6pcxR"
      },
      "source": [
        "# Guia básico para marcação tipo Markdown para estilizar células de texto do Jupyter Notebook.\n",
        "\n",
        "Este guia foi feito para ser uma referencia rápida para a estilização de texto do Jupyter Notebook. Você encontra maiores detalhes na pagina do [John Gruber's](https://daringfireball.net/projects/markdown/), na página do [Github](https://docs.github.com/en/github/writing-on-github) ou nesta [Cheatsheet](https://github.com/adam-p/markdown-here/wiki/Markdown-Cheatsheet).\n",
        "\n",
        "**Disclaimer**: este notebook foi escrito utilizando o *Google colab* no navegador *Brave*. Comportamentos diferentes podem ser obitidos quando utilizados em outros navegadores. "
      ]
    },
    {
      "cell_type": "markdown",
      "metadata": {
        "id": "dHyQpuJHsKH4"
      },
      "source": [
        "# Cabeçalhos\n",
        "\n",
        "Podemos separar as células em seis níves diferentes cabeçalhos, o que é feito para auxiliar na organização dos notebooks. O cabeçalho é renderizado a partir de um símbolo de hashtag (\\#) no inicio de uma linha. \n",
        "<br>\n",
        "<br>\n",
        "Com apenas 1 hashtag (\\#), temos um cabeçalho de nível um. \n",
        "\n",
        "Com 2 hashtags (\\#\\#), temos um cabeçalho de nível 2.\n",
        "\n",
        "Com 3 hashtags (\\#\\#\\#), temos um cabeçalho de nível 3.\n",
        "\n",
        "Com 4 hashtags (\\#\\#\\#\\#), temos um cabeçalho de nível 4.\n",
        "\n",
        "Com 5 hashtags (\\#\\#\\#\\#\\#), temos um cabeçalho de nível 5.\n",
        "\n",
        "Com 6 hashtags (\\#\\#\\#\\#\\#\\#), temos um cabeçalho de nível 6.\n",
        "\n",
        "A seguir temos exemplos de como são renderizados cada tipo de cabeçalho."
      ]
    },
    {
      "cell_type": "markdown",
      "metadata": {
        "id": "5Ny7ZvNm27Hq"
      },
      "source": [
        "# Cabeçalho nível 1\n",
        "\n",
        "\\# Cabeçalho nível 1\n",
        "\n"
      ]
    },
    {
      "cell_type": "markdown",
      "metadata": {
        "id": "w8UV3o3k3yhX"
      },
      "source": [
        "## Cabeçalho nível 2\n",
        "\n",
        "\\## Cabeçalho nível 2"
      ]
    },
    {
      "cell_type": "markdown",
      "metadata": {
        "id": "5-kW0tH03yqH"
      },
      "source": [
        "### Cabeçalho nível 3\n",
        "\n",
        "\\### Cabeçalho nível 3"
      ]
    },
    {
      "cell_type": "markdown",
      "metadata": {
        "id": "_4qPfH7j3yw-"
      },
      "source": [
        "#### Cabeçalho nível 4\n",
        "\n",
        "\\#### Cabeçalho nível 4"
      ]
    },
    {
      "cell_type": "markdown",
      "metadata": {
        "id": "MR56sOZX3y0A"
      },
      "source": [
        "##### Cabeçalho nível 5\n",
        "\n",
        "\\##### Cabeçalho nível 5"
      ]
    },
    {
      "cell_type": "markdown",
      "metadata": {
        "id": "oAUbkaGI3y25"
      },
      "source": [
        "###### Cabeçalho nível 6\n",
        "\n",
        "\\###### Cabeçalho nível 6"
      ]
    },
    {
      "cell_type": "markdown",
      "metadata": {
        "id": "ussU92b-7PKf"
      },
      "source": [
        "# Ênfase"
      ]
    },
    {
      "cell_type": "markdown",
      "metadata": {
        "id": "2QSh2Fmg4HiP"
      },
      "source": [
        "## Itálico\n",
        "\n",
        "Para deixar o texto em itálico utilize-se o asteristico (\\*) ou o underline (\\_):\n",
        "\n",
        "Este texto \\*em itálico\\* utilizando asterisco:  *em itálico*\n",
        "\n",
        "Este texto \\_em itálico\\_ utilizando underline:  _em itálico_"
      ]
    },
    {
      "cell_type": "markdown",
      "metadata": {
        "id": "4hxDA6ZD4HlB"
      },
      "source": [
        "## Negrito \n",
        "\n",
        "Para deixar o texto em negrito utilize-se dois asteristicos (\\**) ou dois o underlines (\\__):\n",
        "\n",
        "Este texto \\*\\*em negrito\\*\\* utilizando asterisco:  **em negrito**\n",
        "\n",
        "Este texto \\_\\_em negrito\\_\\_ utilizando underline:  __em negrito__"
      ]
    },
    {
      "cell_type": "markdown",
      "metadata": {
        "id": "f6yxVGxo4HoA"
      },
      "source": [
        "## Itálico e negrito\n",
        "\n",
        "Para deixar o texto em itálico e em negrito ao mesmo tempo tilize-se três asteristicos (\\*\\*\\*) ou três o underlines (\\_\\_\\_):\n",
        "\n",
        "Este texto \\*\\*\\*em itálico e negrito\\*\\*\\* utilizando asterisco:  ***em itálico e negrito***\n",
        "\n",
        "Este texto \\_\\_\\_em itálico e negrito\\_\\_\\_ utilizando underline:  ___em itálico e negrito___"
      ]
    },
    {
      "cell_type": "markdown",
      "metadata": {
        "id": "s2v9rYUh6dpf"
      },
      "source": [
        "## Tachado\n",
        "\n",
        "Para deixar o texto tachado utiliza-se dois tils (\\~\\~):\n",
        "\n",
        "Este texto \\~\\~ tachado\\~\\~:  ~~tachado~~\n"
      ]
    },
    {
      "cell_type": "markdown",
      "metadata": {
        "id": "ElQK-1ku6g43"
      },
      "source": [
        "## Sublinhado\n",
        "\n",
        "Não temos um código específico para escrever texto sublinhado utilizando a sintaxe de Markdown, mas podemos utilizar sintaxe `HTML`, através da tag `<ins></ins>`\n",
        "\n",
        "Este texto \\<ins>sublinhado\\</ins>: <ins>sublinhado</ins>\n"
      ]
    },
    {
      "cell_type": "markdown",
      "metadata": {
        "id": "kmrDegXu7S2g"
      },
      "source": [
        "# Listas"
      ]
    },
    {
      "cell_type": "markdown",
      "metadata": {
        "id": "SEqV9rj74HrP"
      },
      "source": [
        "## Listas de itens (lista não ordenada)\n",
        "\n",
        "Para criar uma lista não ordenada, podemos utilizar o asterisco (\\*), o sinal de menos (\\-) e/ou o sinal de mais (\\+) para adicionar cada item da lista.\n",
        "\n",
        "Por exemplo:\n",
        "\n",
        "\\- Mamão\n",
        "\n",
        "\\* Limão\n",
        "\n",
        "\\+ Maça\n",
        "\n",
        "será renderizado dessa forma:\n",
        "\n",
        "- Mamão\n",
        "\n",
        "* Limão\n",
        "\n",
        "+ Maça\n",
        "\n",
        "Para inserir lista dentro de listas, basta adicionar um espaçamento (tab) em relação a margem esquerda. Por exemplo:\n",
        "\n",
        "\\* Maça\n",
        "\n",
        "&emsp;\\* Gala\n",
        "\n",
        "&emsp;\\* Fuji\n",
        "\n",
        "Será renderizada da seguinte forma:\n",
        "\n",
        "+ Maça\n",
        "\n",
        "  + Gala\n",
        "\n",
        "  + Fuji\n",
        "\n",
        "E para adicionar novas listas dentro de listas (nested list), basta adicionar mais um espaçamento (tab). Por exemplo:\n",
        "\n",
        "\n",
        "\\- Maça\n",
        "\n",
        "&emsp;\\- Gala\n",
        "\n",
        "&emsp;\\- Fuji\n",
        "\n",
        "&emsp;&emsp;\\- verde\n",
        "\n",
        "&emsp;&emsp;\\- madura\n",
        "\n",
        "Será renderizada da seguinte forma:\n",
        "\n",
        "+ Maça\n",
        "\n",
        "  + Gala\n",
        "\n",
        "  + Fuji\n",
        "\n",
        "    + verde\n",
        "\n",
        "    + madura\n",
        "\n"
      ]
    },
    {
      "cell_type": "markdown",
      "metadata": {
        "id": "nbA1bBEk4HvK"
      },
      "source": [
        "## Listas numeradas (listas ordenadas)\n",
        "\n",
        "Para inserir listas numeradas, basta iniciar a linha com um número qualquer e adicionar um ponto após o número, não importando qual número seja. Por exemplo:\n",
        "\n",
        "1\\. Item 1\n",
        "\n",
        "2\\. Item 2\n",
        "\n",
        "3\\. Item 3\n",
        "\n",
        "Será renderizado dessa forma:\n",
        "\n",
        "1. Item 1\n",
        "\n",
        "2. Item 2\n",
        "\n",
        "3. Item 3\n",
        "\n",
        "E a seguinte forma\n",
        "\n",
        "1\\. Item 1\n",
        "\n",
        "20\\. Item 2\n",
        "\n",
        "3100\\. Item 3\n",
        "\n",
        "será renderizado de forma igual a anterior:\n",
        "\n",
        "1. Item 1\n",
        "\n",
        "20. Item 2\n",
        "\n",
        "3100. Item 3\n",
        "\n",
        "Para iniciar em um número diferente de 1, basta utilizar alterar o primeiro número de lista. Por exemplo:\n",
        "\n",
        "10\\. Item 1\n",
        "\n",
        "2\\. Item 2\n",
        "\n",
        "3100\\. Item 3\n",
        "\n",
        "Será rendezirado iniciando no número 10:\n",
        "\n",
        "10. Item 1\n",
        "\n",
        "2. Item 2\n",
        "\n",
        "3100. Item 3\n",
        "\n",
        "**Observação**: Este item apresenta comportamento diferente dependendo de onde é renderizado. No Google colab, o comportamento é o descrito acima. No GitHub, a numeração irá sempre iniciar em 1. Sempre verifique se o comportamento descrito corresponde ao obitido.\n",
        "\n",
        "E para adicionar uma lista dentro desta lista, basta utilizar um tab. Por exemplo:\n",
        "\n",
        "1\\. Item 1\n",
        "\n",
        "2\\. Item 2\n",
        "\n",
        "3\\. Item 3\n",
        "\n",
        "&emsp;1\\. Item 1\n",
        "\n",
        "&emsp;2\\. Item 2\n",
        "\n",
        "&emsp;3\\. Item 3\n",
        "\n",
        "Será renderizado da seguinte forma:\n",
        "\n",
        "1\\. Item 1\n",
        "\n",
        "2\\. Item 2\n",
        "\n",
        "3\\. Item 3\n",
        "\n",
        "  1. Item 1\n",
        "\n",
        "  2. Item 2\n",
        "\n",
        "  3. Item 3\n",
        "\n",
        "\n",
        "  Listas ordenadas e não ordenadas podem ser acopladas uma nas outras. Por exemplo:\n",
        "\n",
        "1\\. Item 1\n",
        "\n",
        "2\\. Item 2\n",
        "\n",
        "3\\. Item 3\n",
        "\n",
        "&emsp;\\- Item 1\n",
        "\n",
        "&emsp;\\- Item 2\n",
        "\n",
        "&emsp;\\- Item 3  \n",
        "\n",
        "Será renderizado da seguinte forma:\n",
        "\n",
        "1. Item 1\n",
        "\n",
        "2. Item 2\n",
        "\n",
        "3. Item 3\n",
        "\n",
        "  - Item 1\n",
        "\n",
        "  - Item 2\n",
        "\n",
        "  - Item 3  \n"
      ]
    },
    {
      "cell_type": "markdown",
      "metadata": {
        "id": "r7vrm5QQhzy0"
      },
      "source": [
        "# Tabela\n",
        "\n",
        "Para criar uma tabela utilizamos a barra vertical (|) para indicar o inicio e o final de cada célula da tabela. A primeira linha da tabela sempre será interpretada como o cabeçalho da tabela, e o cabeçalho e o corpo da tabela deve ser separado por pelo menos um traço (-).\n",
        "\n",
        "Por exemplo, \n",
        "\n",
        "\\| Cabeçalho 1 | Cabeçalho 2 | Cabeçalho 3 |\n",
        "\n",
        "\\| - | - | - |\n",
        "\n",
        "\\| Linha 1 | Linha 2 | Linha 3 |\n",
        "\n",
        "Será renderizado da seguinte forma:\n",
        "\n",
        "| Cabeçalho 1 | Cabeçalho 2 | Cabeçalho 3 |\n",
        "| - | - | - |\n",
        "| Linha 1 | Linha 2 | Linha 3 |\n",
        "\n",
        "Por padrão, o cabeçalho será centralizado, enquanto que as linhas serão alinhadas à esquerda. Para alterar o alinhamento das linhas para à direita, basta colocar o simbolo de dois pontos (:) após o traço que separa o cabeçalho das linhas da tabela. Por exemplo:\n",
        "\n",
        "\\| Cabeçalho 1 | Cabeçalho 2 | Cabeçalho 3 |\n",
        "\n",
        "\\| - | - | -: |\n",
        "\n",
        "\\| Linha 1 | Linha 2 | Direita |\n",
        "\n",
        "Será renderizado destaforma:\n",
        "\n",
        "| Cabeçalho 1 | Cabeçalho 2 | Cabeçalho 3 |\n",
        "| - | - | -: |\n",
        "| Linha 1 | Linha 2 | Direira |\n",
        "\n",
        "Para centralizar o conteúdo da linha de uma coluna, basta colocar os dois pontos antes e depois do traço. Por exemplo,\n",
        "\n",
        "\\| Cabeçalho 1 | Cabeçalho 2 | Cabeçalho 3 |\n",
        "\n",
        "\\| - | :-: | - |\n",
        "\n",
        "\\| Linha 1 | Central | Linha 3 |\n",
        "\n",
        "Será renderizado desta forma:\n",
        "\n",
        "| Cabeçalho 1 | Cabeçalho 2 | Cabeçalho 3 |\n",
        "| - | :-: | - |\n",
        "| Linha 1 | Central | Linha 3 |\n",
        "\n",
        "<br>\n",
        "\n",
        "**Observação**: O alinhamento das células citado acima não funciona no GitHub."
      ]
    },
    {
      "cell_type": "markdown",
      "metadata": {
        "id": "27dkvAf5jk-8"
      },
      "source": [
        "# Código\n",
        "\n",
        "É possível renderizar o texto simulando código. Para inserir dentro de uma linha, basta colocar o código entre duas crases (\\`).\n",
        "\n",
        "Por exemplo, para renderizar x = 10 como código, adiciona-se uma crase antes e outra após o código: \\`x = 10\\`.\n",
        "\n",
        "Que será renderizado desta forma: ` x = 10`\n",
        "\n",
        "Para inserir um bloco de código, adicionamos três crases (```) antes do bloco, e outras três após o bloco.\n",
        "\n",
        "Por exemplo, para inserir um bloco de código que contém uma função que soma dois números, fazemos desta forma:\n",
        "\n",
        "\\```  \n",
        "def soma(x, y):  \n",
        "&emsp;return x + y  \n",
        "\\```\n",
        "\n",
        "Que será renderizado assim:\n",
        "\n",
        "```\n",
        "def soma(x, y):\n",
        "  return x + y\n",
        "```\n",
        "\n",
        "Para que o estilo de código seja aplicado, basta colocar o nome da linguagem após a primeira linha de crases. Por exemplo:\n",
        "\n",
        "\n",
        "\\```python  \n",
        "def soma(x, y):  \n",
        "&emsp;return x + y  \n",
        "\\```\n",
        "\n",
        "Será renderizado destacando os elementos de código Python:\n",
        "\n",
        "```python\n",
        "def soma(x, y):\n",
        "  return x + y\n",
        "```\n"
      ]
    },
    {
      "cell_type": "markdown",
      "metadata": {
        "id": "ER9Ygmhk7X9W"
      },
      "source": [
        "# Outros"
      ]
    },
    {
      "cell_type": "markdown",
      "metadata": {
        "id": "HsCRnD-i5C8X"
      },
      "source": [
        "## Blockquote\n",
        "\n",
        "Podemos inserir um paragráfo destacado, utilizando um símbolo de maior (\\>) no início do paragráfo. Por exemplo,\n",
        "\n",
        "\\> Isto irá ser destacado como uma citação direta\n",
        "\n",
        "Será renderizado desta forma\n",
        "\n",
        "> Isto irá ser destacado como uma citação direta"
      ]
    },
    {
      "cell_type": "markdown",
      "metadata": {
        "id": "phEOoOPC5DCH"
      },
      "source": [
        "##Link\n",
        "\n",
        "Podemos adicionar links ao longo do texto. Para fazer isto, utilizamos a estrutura \\[nome que irá aparecer](link completo).\n",
        "\n",
        "Por exemplo, para inserir um link que leva ao site da Google, utilizamos a seguinte notação:\n",
        "\n",
        "Clique \\[aqui](https://www.google.com/) para acessar o Google.\n",
        "\n",
        "Que será renderizado da seguinte forma:\n",
        "\n",
        "Clique [aqui](https://www.google.com/) para acessar o Google."
      ]
    },
    {
      "cell_type": "markdown",
      "metadata": {
        "id": "unVZl_BSk-57"
      },
      "source": [
        "## Quebra de linha\n",
        "\n",
        "Para separa dois parágrafos, basta deixa-los separados por um linha inteira, ou inserir dois espaços em branco após o final do primeiro paragráfo. Também podemos utilizar a TAG de `HTML` `<br>` para querar uma linha, adicionando esta TAG no final do parágrafo."
      ]
    },
    {
      "cell_type": "markdown",
      "metadata": {
        "id": "ASvD6T3n5DHi"
      },
      "source": [
        "## Linha horizontal\n",
        "\n",
        "Para adicionar uma linha horizontal, basta adicionar três traços (\\---) em uma linha vazia.\n",
        "\n",
        "Por exemplo,\n",
        "\n",
        "\\---\n",
        "\n",
        "Será renderizado desta forma:\n",
        "\n",
        "---\n"
      ]
    },
    {
      "cell_type": "markdown",
      "metadata": {
        "id": "n8Ws509Tl-mi"
      },
      "source": [
        "## Imagem\n",
        "\n",
        "Para inserir uma imagem, basta utilizar a seguinte notação: \n",
        "\n",
        "\\!\\[alt text]\\(link para a imagem \"texto de titulo da imagem ao passar o mouse pela imagem\").\n",
        "\n",
        "Por exemplo,\n",
        "\n",
        "\\!\\[alt text]\\(https:// raw.githubusercontent.com/andersonmdcanteli/matplotlib-course/main/logo/marca_puzzle.png\n",
        " \"texto de titulo da imagem ao passar o mouse pela imagem\").\n",
        "\n",
        " Será renderizado desta forma:\n",
        "\n",
        "![alt text](https://raw.githubusercontent.com/andersonmdcanteli/matplotlib-course/main/logo/marca_puzzle.png\n",
        " \"texto de titulo da imagem ao passar o mouse pela imagem\").\n",
        "\n",
        "\n",
        "Passe o mouse por cima da imagem e obser o texto que será apresentado. Para alterar este texto para algo mais adequado, basta alterar o texto inserido entre aspas duplas:\n",
        "\n",
        "![alt text](https://raw.githubusercontent.com/andersonmdcanteli/matplotlib-course/main/logo/marca_puzzle.png\n",
        " \"logo do projeto The puZZle in a Mug\").\n"
      ]
    },
    {
      "cell_type": "markdown",
      "metadata": {
        "id": "yyxdKG6fpirI"
      },
      "source": [
        "# Considerações finais\n",
        "\n",
        "Como os notebooks funcionam em navegadores, eles também podem ser editados utilizando TAGs `HTML` e código `css`. Mas, a ideia dos notebooks é ser algo simples e rápido de utilizar, e portanto, é mais adequado utilizar o Markdown para estilizar o seu texto de forma eficiente."
      ]
    },
    {
      "cell_type": "markdown",
      "metadata": {
        "id": "ZZw7shRpvHEm"
      },
      "source": [
        "# Sobre\n",
        "\n",
        "**Author:** Anderson Marcos Dias Canteli, *PhD in Food Engineer*\n",
        "\n",
        "**Last updated on:** 13/06/2021\n",
        "\n",
        "### Interesting links:\n",
        "\n",
        "- [GitPage](http://andersonmdcanteli.github.io/)\n",
        "\n",
        "- [Blog](https://andersoncanteli.wordpress.com/)\n",
        "\n",
        "- [YouTube channel](https://www.youtube.com/c/AndersonCanteli/)\n",
        "\n",
        "- [Curriculum lattes](http://lattes.cnpq.br/6961242234529344)\n",
        "\n",
        "<br>\n",
        "\n",
        "<img style=\"float: right\" src=\"https://raw.githubusercontent.com/andersonmdcanteli/matplotlib-course/main/logo/marca_puzzle.png\" alt=\"logo Puzzle in a Mug project\" width=\"400\">"
      ]
    }
  ]
}