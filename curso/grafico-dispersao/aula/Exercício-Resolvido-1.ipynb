{
 "cells": [
  {
   "cell_type": "markdown",
   "id": "5a47223a",
   "metadata": {},
   "source": [
    "<a id=\"title-id\"></a>\n",
    "\n",
    "\n",
    "# Exercício resolvido 1 - Gráfico de dispersão\n",
    "\n",
    "<br>\n",
    "\n",
    "Use os conhecimentos obtidos nesta aula e faça um gráfico relacionando o **peso** com a **altura** das diversas raças de ***gatos domésticos*** (conjunto de dados logo abaixo).\n",
    "\n",
    "***Lembre-se***: o gráfico deve ser claro e trazer todas as informações necessárias para que, sozinho, o leitor consiga compreender a mensagem que se deseja passar.\n",
    "\n",
    "\n",
    "Dicas: \n",
    "\n",
    "- Use sua imaginação e criatividade para deixar o gráfico **óbvio**;\n",
    "\n",
    "- Volte e olhe a aula anterior ou veja o notebook de referência da aula;\n",
    "\n",
    "- Pesquise no [google](https://www.google.com/) e/ou [stackoverflow](https://stackoverflow.com/) pela sua dúvida.\n",
    "\n",
    "\n",
    "\n",
    "\n"
   ]
  },
  {
   "cell_type": "markdown",
   "id": "740dc756",
   "metadata": {},
   "source": [
    "## Conjunto de dados\n",
    "\n",
    "O conunto de dados foi obtido em [www.dimensions.com](https://www.dimensions.com/collection/cats-cat-breeds) no dia 14/04/2021. \n",
    "\n",
    "O conjunto conta com dados de altura (cm) e peso (kg) de 30 raças de gatos domésticos.\n",
    "\n",
    "\n",
    "<img style=\"float: center;\" src=\"https://i0.wp.com/animeyume.com/blog/images/meowth1.jpg?zoom=2\" alt=\"Meowth, é isso aí!\" width=\"200\">\n",
    "\n",
    "<br>"
   ]
  },
  {
   "cell_type": "code",
   "execution_count": null,
   "id": "9ac602f9",
   "metadata": {},
   "outputs": [],
   "source": [
    "# Diferentes raças de gatos domésticos\n",
    "raca_gatos = ['Abyssinian Cat', 'American Shorthair Cat', 'Bengal Cat', 'Birman Cat', 'Bombay Cat',\n",
    "             'British Shorthair Cat', 'Burmese Cat', 'Chartreux Cat', 'Devon Rex Cat', 'Havana Brown Cat', 'Himalayan Cat',\n",
    "             'Korat Cat', 'Maine Coon Cat', 'Manx Cat', 'Norwegian Forest Cat', 'Oriental Cat', 'Oriental Shorthair Cat',\n",
    "             'Persian Cat', 'Ragamuffin Cat', 'Ragdoll Cat', 'Russian Blue Cat', 'Savannah Cat', 'Scottish Fold Cat', \n",
    "              'Siamese Cat', 'Singapura Cat', 'Somali Cat', 'Sphynx Cat', 'Tonkinese Cat', 'Turkish Van Cat', 'Siberian Cat'] \n",
    "\n",
    "# altura das raças de gatos (cm)\n",
    "gatos_altura = [22.5, 22.5, 22.5, 22.5, 32.0, 38.0, 27.5, 25.5, 27.5, 25.5, 27.5, 27.5, 32.5, 27.5, 26.5, 22.5,\n",
    "                 25.5, 22.5, 25.5, 25.5, 22.5, 35.5, 22.5, 22.5, 17.5, 22.5, 22.5, 22.5, 25.5, 25.5] \n",
    "\n",
    "# peso das raças de gatos (em kilos)\n",
    "gatos_peso = [4.5, 6.0, 7.0, 4.5, 4.0, 5.5, 4.5, 4.5, 3.5, 4.5, 4.0, 4.0, 8.0, 4.5, 7.5, 3.5, 5.0, 4.0, 6.5, 6.5,\n",
    "             5.5, 8.0, 5.0, 4.5, 3.5, 5.5, 5.5, 5.0, 5.5, 7.0] "
   ]
  },
  {
   "cell_type": "code",
   "execution_count": null,
   "id": "da8a2d46",
   "metadata": {},
   "outputs": [],
   "source": []
  },
  {
   "cell_type": "code",
   "execution_count": null,
   "id": "b4cffc1c",
   "metadata": {},
   "outputs": [],
   "source": []
  },
  {
   "cell_type": "code",
   "execution_count": null,
   "id": "cdc791ee",
   "metadata": {},
   "outputs": [],
   "source": []
  },
  {
   "cell_type": "code",
   "execution_count": null,
   "id": "9faf78cc",
   "metadata": {},
   "outputs": [],
   "source": []
  },
  {
   "cell_type": "code",
   "execution_count": null,
   "id": "3d31d15c",
   "metadata": {},
   "outputs": [],
   "source": []
  },
  {
   "cell_type": "code",
   "execution_count": null,
   "id": "fefd5737",
   "metadata": {},
   "outputs": [],
   "source": []
  },
  {
   "cell_type": "code",
   "execution_count": null,
   "id": "989cceda",
   "metadata": {},
   "outputs": [],
   "source": []
  },
  {
   "cell_type": "code",
   "execution_count": null,
   "id": "29c5ffb3",
   "metadata": {},
   "outputs": [],
   "source": []
  },
  {
   "cell_type": "code",
   "execution_count": null,
   "id": "1435c30b",
   "metadata": {},
   "outputs": [],
   "source": []
  },
  {
   "cell_type": "code",
   "execution_count": null,
   "id": "71aecef6",
   "metadata": {},
   "outputs": [],
   "source": []
  },
  {
   "cell_type": "code",
   "execution_count": null,
   "id": "b72dd6b2",
   "metadata": {},
   "outputs": [],
   "source": []
  },
  {
   "cell_type": "markdown",
   "id": "630848f2",
   "metadata": {},
   "source": [
    "## Conjunto de dados combinando raças com mesmas medidas"
   ]
  },
  {
   "cell_type": "code",
   "execution_count": null,
   "id": "5cdac335",
   "metadata": {},
   "outputs": [],
   "source": [
    "# Diferentes raças de gatos domésticos\n",
    "gatos_racas = ['Abyssinian, Birman, Siamese', 'American Shorthair Cat', 'Bengal', 'Bombay', 'British Shorthair',\n",
    "                'Burmese, Manx', 'Chartreux, Havana', 'Devon Rex', 'Himalayan, Korat', 'Maine Coon', 'Norwegian Forest',\n",
    "                'Oriental', 'Oriental Shorthair', 'Persian', 'Ragamuffin, Ragdoll', 'Russian Blue, Somali, Sphynx',\n",
    "                'Savannah', 'Scottish Fold, Tonkinese', 'Singapura', 'Turkish Van', 'Siberian']\n",
    "\n",
    "# altura das raças de gatos (cm)\n",
    "altura_gatos = [22.5, 22.5, 22.5, 32.0, 38.0, 27.5, 25.5, 27.5, 27.5, 32.5, 26.5, 22.5, 25.5, 22.5, 25.5, 22.5, 35.5,\n",
    "                22.5, 17.5, 25.5, 25.5]\n",
    "\n",
    "# peso das raças de gatos (em kilos)\n",
    "peso_gatos = [4.5, 6.0, 7.0, 4.0, 5.5, 4.5, 4.5, 3.5, 4.0, 8.0, 7.5, 3.5, 5.0, 4.0, 6.5, 5.5, 8.0, 5.0, 3.5, 5.5, 7.0]"
   ]
  }
 ],
 "metadata": {
  "kernelspec": {
   "display_name": "cafe",
   "language": "python",
   "name": "cafe"
  },
  "language_info": {
   "codemirror_mode": {
    "name": "ipython",
    "version": 3
   },
   "file_extension": ".py",
   "mimetype": "text/x-python",
   "name": "python",
   "nbconvert_exporter": "python",
   "pygments_lexer": "ipython3",
   "version": "3.7.3"
  }
 },
 "nbformat": 4,
 "nbformat_minor": 5
}
