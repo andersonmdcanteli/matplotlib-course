{
 "cells": [
  {
   "cell_type": "markdown",
   "id": "16399002",
   "metadata": {},
   "source": [
    "<a id=\"title-id\"></a>\n",
    "\n",
    "\n",
    "# Exercício resolvido 2 - Gráfico de dispersão \n",
    "\n",
    "<br>\n",
    "\n",
    "Use os conhecimentos obtidos nesta aula e faça um gráfico relacionando o **peso** médio com a **altura** média de diversas espécies de animais. \n",
    "\n",
    "Dicas: \n",
    "\n",
    "- Use sua imaginação e criatividade para deixar o gráfico **óbvio**;\n",
    "\n",
    "- Volte e olhe a aula anterior ou veja o notebook de referência da aula;\n",
    "\n",
    "- Pesquise no [google](https://www.google.com/) e/ou [stackoverflow](https://stackoverflow.com/) pela sua dúvida.\n",
    "\n"
   ]
  },
  {
   "cell_type": "markdown",
   "id": "28117e63",
   "metadata": {},
   "source": [
    "## Conjunto de dados\n",
    "\n",
    "O conunto de dados foi obtido em [www.dimensions.com](https://www.dimensions.com/classifications/animals) no dia 14/04/2021, e contam com dados de altura (cm) e peso (kg) de diversos tipos de animais:\n",
    "\n",
    "- cachorros;\n",
    "\n",
    "- gatos;\n",
    "\n",
    "- ursos;\n",
    "\n",
    "- camelos;\n",
    "\n",
    "- vacas;\n",
    "\n",
    "- cavalos;\n",
    "\n",
    "- pinguins;\n",
    "\n",
    "- porcos;\n"
   ]
  },
  {
   "cell_type": "markdown",
   "id": "dde8eb3d",
   "metadata": {},
   "source": [
    "### Cachorros\n",
    "\n",
    "\n",
    "\n",
    "Os dados de altura (cm) e peso (kg) dos cachorros, contam com [11 raças diferentes](https://www.dimensions.com/collection/dogs-dog-breeds): \n"
   ]
  },
  {
   "cell_type": "code",
   "execution_count": 1,
   "id": "9292b77c",
   "metadata": {},
   "outputs": [],
   "source": [
    "cachorro_altura = [19.05, 25.4, 26.67, 29.21, 36.83, 52.07, 54.61, 57.15, 60.96, 62.23, 67.31] # altura em em centímetros\n",
    "\n",
    "cachorro_peso = [1.59, 4.53, 8.16, 10.2, 10.88, 22.68, 22.68, 30.62, 37.42, 45.36, 68.04] # peso em kilos\n",
    "\n",
    "raca_cachorro = ['Chihuahua', 'Poodle Toy', 'Pug', 'French Bulldog', 'Beagle', 'Chow Chow', 'Siberian Husky', \n",
    "                 'Labrador Retriever', 'German Shepherd Dog', 'Rottweiler', 'Saint Bernard'] # nome da respectiva raça "
   ]
  },
  {
   "cell_type": "markdown",
   "id": "e8fc8c51",
   "metadata": {},
   "source": [
    "### Gatos\n",
    "\n",
    "Os dados de altura (cm) e peso (kg) dos gatos, contam com [30 raças diferentes](https://www.dimensions.com/collection/cats-cat-breeds):\n",
    "\n"
   ]
  },
  {
   "cell_type": "code",
   "execution_count": 2,
   "id": "1b5bad5d",
   "metadata": {},
   "outputs": [],
   "source": [
    "gatos_altura = [22.5, 22.5, 22.5, 22.5, 32.0, 38.0, 27.5, 25.5, 27.5, 25.5, 27.5, 27.5, 32.5, 27.5, 26.5, 22.5,\n",
    "                 25.5, 22.5, 25.5, 25.5, 22.5, 35.5, 22.5, 22.5, 17.5, 22.5, 22.5, 22.5, 25.5, 25.5] # altura em em centímetros\n",
    "\n",
    "gatos_peso = [4.5, 6.0, 7.0, 4.5, 4.0, 5.5, 4.5, 4.5, 3.5, 4.5, 4.0, 4.0, 8.0, 4.5, 7.5, 3.5, 5.0, 4.0, 6.5, 6.5,\n",
    "             5.5, 8.0, 5.0, 4.5, 3.5, 5.5, 5.5, 5.0, 5.5, 7.0] # peso em kilos\n",
    "\n",
    "raca_gatos = ['Abyssinian Cat', 'American Shorthair Cat', 'Bengal Cat', 'Birman Cat', 'Bombay Cat',\n",
    "             'British Shorthair Cat', 'Burmese Cat', 'Chartreux Cat', 'Devon Rex Cat', 'Havana Brown Cat', \n",
    "              'Himalayan Cat', 'Korat Cat', 'Maine Coon Cat', 'Manx Cat', 'Norwegian Forest Cat', 'Oriental Cat', \n",
    "              'Oriental Shorthair Cat', 'Persian Cat', 'Ragamuffin Cat', 'Ragdoll Cat', 'Russian Blue Cat', \n",
    "              'Savannah Cat', 'Scottish Fold Cat', 'Siamese Cat', 'Singapura Cat', 'Somali Cat', 'Sphynx Cat', \n",
    "              'Tonkinese Cat', 'Turkish Van Cat', 'Siberian Cat'] # nome da respectiva raça \n"
   ]
  },
  {
   "cell_type": "markdown",
   "id": "2d99f1d0",
   "metadata": {},
   "source": [
    "### Ursos\n",
    "\n",
    "Os dados de altura (cm) e peso (kg) dos ursos, contam com [11 raças diferentes](https://www.dimensions.com/collection/bears-ursidae):\n"
   ]
  },
  {
   "cell_type": "code",
   "execution_count": 3,
   "id": "6100d982",
   "metadata": {},
   "outputs": [],
   "source": [
    "ursos_altura = [90, 86.5, 155, 68.5, 114, 127, 120.5, 152.5, 76, 76, 66] # altura em em centímetros\n",
    "\n",
    "ursos_peso = [181, 120.5, 408.5, 91, 249.5, 408, 415, 646.5, 99.5, 118, 47.5] # peso em kilos\n",
    "\n",
    "ursos_nomes = ['American Black Bear', 'Asiatic Black Bear', 'Cave Bear', 'Giant Panda Bear', 'Grizzly Bear',\n",
    "               'Kodiak Bear', 'Polar Bear', 'Short-Faced Bear', 'Sloth Bear', 'Spectacled Bear', 'Sun Bear'] # nome da respectiva raça \n"
   ]
  },
  {
   "cell_type": "markdown",
   "id": "942f198d",
   "metadata": {},
   "source": [
    "### Camelos\n",
    "\n",
    "Os dados de altura (cm) e peso (kg) dos camelos, contam com [6 raças diferentes](https://www.dimensions.com/collection/camelids-camelidae):"
   ]
  },
  {
   "cell_type": "code",
   "execution_count": 4,
   "id": "f9c7624a",
   "metadata": {},
   "outputs": [],
   "source": [
    "camelos_altura = [108, 213, 213, 150, 175, 128] # altura em em centímetros\n",
    "\n",
    "camelos_peso = [137.5, 475, 500, 115, 165, 50] # peso em kilos\n",
    "\n",
    "camelos_nomes = ['Alpaca', 'Bactrian Camel', 'Dromedary Camel', 'Guanaco', 'Llama', 'Vicuña'] # nome da respectiva raça \n"
   ]
  },
  {
   "cell_type": "markdown",
   "id": "443e8c81",
   "metadata": {},
   "source": [
    "### Vacas\n",
    "\n",
    "Os dados de altura (cm) e peso (kg) da vaca, conta com [1 raça](https://www.dimensions.com/collection/cattle-bovine-bovinae):"
   ]
  },
  {
   "cell_type": "code",
   "execution_count": 5,
   "id": "9a215d08",
   "metadata": {},
   "outputs": [],
   "source": [
    "vacas_altura = [170] # altura em em centímetros\n",
    "\n",
    "vacas_peso = [771] # peso em kilos\n",
    "\n",
    "vacas_nomes = ['Dairy Cow'] # nome da respectiva raça "
   ]
  },
  {
   "cell_type": "markdown",
   "id": "db290922",
   "metadata": {},
   "source": [
    "### Cavalos\n",
    "\n",
    "Os dados de altura (cm) e peso (kg) dos cavalos, contam com [14 raças diferentes](https://www.dimensions.com/collection/horses-horse-breeds):"
   ]
  },
  {
   "cell_type": "code",
   "execution_count": 6,
   "id": "1d3e3586",
   "metadata": {},
   "outputs": [],
   "source": [
    "cavalos_altura = [152.5, 154, 152.5, 150, 172.5, 160, 144.5, 91.5, 148.5, 168.5, 152.5, 91.5, 178, 162.5] # altura em em centímetros\n",
    "\n",
    "cavalos_peso = [431, 476, 499, 408.5, 907, 589.5, 476.5, 113.5, 453.5, 499, 487.5, 192.5, 1000, 465] # peso em kilos\n",
    "\n",
    "cavalos_nomes = ['Akhal-Teke', 'Andalusian Horse', 'Appaloosa Horse', 'Arabian Horse', 'Clydesdale Horse',\n",
    "                 'Friesian Horse', 'Haflinger Horse', 'Miniature Horse', 'Morgan Horse', 'American Paint Horse',\n",
    "                 'American Quarter Horse', 'Shetland Pony', 'Shire Horse', 'Thoroughbred Horse'] # nome da respectiva raça \n"
   ]
  },
  {
   "cell_type": "markdown",
   "id": "73cda4cf",
   "metadata": {},
   "source": [
    "### Pinguins\n",
    "\n",
    "Os dados de altura (cm) e peso (kg) dos pinguins, contam com [6 raças diferentes](https://www.dimensions.com/collection/penguins-spheniscidae):"
   ]
  },
  {
   "cell_type": "code",
   "execution_count": 7,
   "id": "6371dfe6",
   "metadata": {},
   "outputs": [],
   "source": [
    "pinguins_altura = [58.5, 72, 120, 70.5, 85, 65] # altura em em centímetros\n",
    "\n",
    "pinguins_peso = [4.8, 4.25, 33.5, 6.7, 13.65, 4.8] # peso em kilos\n",
    "\n",
    "pinguins_nomes = ['Adélie Penguin', 'Chinstrap Penguin', 'Emperor Penguin', 'Gentoo Penguin', 'King Penguin',\n",
    "                  'Macaroni Penguin'] # nome da respectiva raça \n"
   ]
  },
  {
   "cell_type": "markdown",
   "id": "1101569f",
   "metadata": {},
   "source": [
    "### Porcos\n",
    "\n",
    "Os dados de altura (cm) e peso (kg) dos porcos, contam com [6 raças diferentes](https://www.dimensions.com/collection/pigs-suidae):"
   ]
  },
  {
   "cell_type": "code",
   "execution_count": 8,
   "id": "38f4f473",
   "metadata": {},
   "outputs": [],
   "source": [
    "porcos_altura = [74, 93, 43.5, 62, 25.5, 67.5, 74, 83.5, 87.5] # altura em em centímetros\n",
    "\n",
    "porcos_peso = [220, 187.5, 56.5, 72.5, 8.25, 87.5, 82.5, 84, 272] # peso em kilos\n",
    "\n",
    "porcos_nomes = ['Domestic Pig', 'Giant Forest Hog', 'Miniature Pig', 'North Sulawesi Babirusa', 'Pygmy Hog',\n",
    "                'Red River Hog', 'Common Warthog', 'Wild Boar', 'Yorkshire Pig'] # nome da respectiva raça "
   ]
  },
  {
   "cell_type": "markdown",
   "id": "e6e35fac",
   "metadata": {},
   "source": [
    "## Importações"
   ]
  },
  {
   "cell_type": "code",
   "execution_count": 9,
   "id": "7ce7c38c",
   "metadata": {},
   "outputs": [],
   "source": [
    "import matplotlib.pyplot as plt\n",
    "import matplotlib as mpl\n",
    "import numpy as np"
   ]
  },
  {
   "cell_type": "markdown",
   "id": "51f3b71e",
   "metadata": {},
   "source": [
    "## Calculando valores médios"
   ]
  },
  {
   "cell_type": "code",
   "execution_count": 10,
   "id": "cb504f7a",
   "metadata": {},
   "outputs": [],
   "source": [
    "cachorro_altura_media = np.mean(cachorro_altura)\n",
    "cachorro_peso_media = np.mean(cachorro_peso)\n",
    "\n",
    "gato_altura_media = np.mean(gatos_altura)\n",
    "gato_peso_media = np.mean(gatos_peso)\n",
    "\n",
    "urso_altura_media = np.mean(ursos_altura)\n",
    "urso_peso_media = np.mean(ursos_peso)\n",
    "\n",
    "camelo_altura_media = np.mean(camelos_altura)\n",
    "camelo_peso_media = np.mean(camelos_peso)\n",
    "\n",
    "vaca_altura_media = np.mean(vacas_altura)\n",
    "vaca_peso_media = np.mean(vacas_peso)\n",
    "\n",
    "cavalo_altura_media = np.mean(cavalos_altura)\n",
    "cavalo_peso_media = np.mean(cavalos_peso)\n",
    "\n",
    "pinguim_altura_media = np.mean(pinguins_altura)\n",
    "pinguim_peso_media = np.mean(pinguins_peso)\n",
    "\n",
    "porco_altura_media = np.mean(porcos_altura)\n",
    "porco_peso_media = np.mean(porcos_peso)\n"
   ]
  },
  {
   "cell_type": "markdown",
   "id": "dbb901eb",
   "metadata": {},
   "source": [
    "## Desenhando o gráfico"
   ]
  },
  {
   "cell_type": "code",
   "execution_count": 17,
   "id": "54979206",
   "metadata": {},
   "outputs": [],
   "source": [
    "tamanho_marcador = 80\n",
    "mpl.rc('font', family='Times New Roman', size=14)"
   ]
  },
  {
   "cell_type": "code",
   "execution_count": 18,
   "id": "6634883b",
   "metadata": {},
   "outputs": [
    {
     "data": {
      "image/png": "[encoded data removed]",
      "text/plain": [
       "<Figure size 576x432 with 1 Axes>"
      ]
     },
     "metadata": {
      "needs_background": "light"
     },
     "output_type": "display_data"
    }
   ],
   "source": [
    "plt.figure(figsize=(8,6))\n",
    "plt.scatter(cachorro_peso_media, cachorro_altura_media, label=\"Cachorros\", marker='o', s=tamanho_marcador)\n",
    "plt.scatter(gato_peso_media, gato_altura_media, label=\"Gatos\", marker='s', s=tamanho_marcador)\n",
    "plt.scatter(urso_peso_media, urso_altura_media, label=\"Ursos\", marker='*', s=tamanho_marcador)\n",
    "plt.scatter(camelo_peso_media, camelo_altura_media, label=\"Camelos\", marker='^', s=tamanho_marcador)\n",
    "plt.scatter(vaca_peso_media, vaca_altura_media, label=\"Vaca\", marker='v', s=tamanho_marcador)\n",
    "plt.scatter(cavalo_peso_media, cavalo_altura_media, label=\"Cavalos\", marker='<', s=tamanho_marcador)\n",
    "plt.scatter(pinguim_peso_media, pinguim_altura_media, label=\"Pinguins\", marker='>', s=tamanho_marcador)\n",
    "plt.scatter(porco_peso_media, porco_altura_media, label=\"Porco\", marker='D', s=tamanho_marcador)\n",
    "\n",
    "plt.legend(loc=4)\n",
    "plt.xlabel(\"Peso (kg)\")\n",
    "plt.ylabel(\"Altura (cm)\")\n",
    "plt.title(\"Comparação entre a relação peso/altura de diversos grupos de animais\")\n",
    "plt.show()"
   ]
  },
  {
   "cell_type": "code",
   "execution_count": null,
   "id": "e7d7e996",
   "metadata": {},
   "outputs": [],
   "source": []
  },
  {
   "cell_type": "code",
   "execution_count": null,
   "id": "5269afb1",
   "metadata": {},
   "outputs": [],
   "source": []
  },
  {
   "cell_type": "code",
   "execution_count": null,
   "id": "0773cb1b",
   "metadata": {},
   "outputs": [],
   "source": []
  },
  {
   "cell_type": "code",
   "execution_count": null,
   "id": "63da3042",
   "metadata": {},
   "outputs": [],
   "source": []
  },
  {
   "cell_type": "code",
   "execution_count": null,
   "id": "f216336c",
   "metadata": {},
   "outputs": [],
   "source": []
  },
  {
   "cell_type": "code",
   "execution_count": null,
   "id": "b48a2626",
   "metadata": {},
   "outputs": [],
   "source": []
  }
 ],
 "metadata": {
  "kernelspec": {
   "display_name": "cafe",
   "language": "python",
   "name": "cafe"
  },
  "language_info": {
   "codemirror_mode": {
    "name": "ipython",
    "version": 3
   },
   "file_extension": ".py",
   "mimetype": "text/x-python",
   "name": "python",
   "nbconvert_exporter": "python",
   "pygments_lexer": "ipython3",
   "version": "3.7.3"
  }
 },
 "nbformat": 4,
 "nbformat_minor": 5
}
